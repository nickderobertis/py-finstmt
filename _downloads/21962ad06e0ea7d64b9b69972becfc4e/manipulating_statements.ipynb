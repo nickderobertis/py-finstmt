{
  "cells": [
    {
      "cell_type": "code",
      "execution_count": null,
      "metadata": {
        "collapsed": false
      },
      "outputs": [],
      "source": [
        "%matplotlib inline"
      ]
    },
    {
      "cell_type": "markdown",
      "metadata": {},
      "source": [
        "\n# Manipulating Statements\n\n   Note: The formatting of the statements is off in the web view.\n   Download the Jupyter notebook for the full experience.\n\nFirst import the necessary classes and ``pandas``.\n"
      ]
    },
    {
      "cell_type": "code",
      "execution_count": null,
      "metadata": {
        "collapsed": false
      },
      "outputs": [],
      "source": [
        "import os\nos.chdir('..')\nfrom finstmt import FinancialStatements, IncomeStatements, BalanceSheets\nimport pandas as pd"
      ]
    },
    {
      "cell_type": "markdown",
      "metadata": {},
      "source": [
        "## Load Financial Statements\n\n\n"
      ]
    },
    {
      "cell_type": "code",
      "execution_count": null,
      "metadata": {
        "collapsed": false
      },
      "outputs": [],
      "source": [
        "root_folder = os.path.sep.join(['..', 'tests', 'sources', 'stockrow', 'CAT'])\n\ninc_path = os.path.join(root_folder, 'annual_income.csv')\nbs_path = os.path.join(root_folder, 'annual_bs.csv')\n\ninc_df = pd.read_csv(inc_path, index_col=0)\nbs_df = pd.read_csv(bs_path, index_col=0)\n\nbs = BalanceSheets.from_df(bs_df)\ninc = IncomeStatements.from_df(inc_df)\nstmts = FinancialStatements(inc, bs)"
      ]
    },
    {
      "cell_type": "markdown",
      "metadata": {},
      "source": [
        "## View Statements\n\n\n"
      ]
    },
    {
      "cell_type": "code",
      "execution_count": null,
      "metadata": {
        "collapsed": false
      },
      "outputs": [],
      "source": [
        "stmts"
      ]
    },
    {
      "cell_type": "markdown",
      "metadata": {},
      "source": [
        "## Select Statement Periods\n\nStatements periods can be selected by indexing the statements object\nwith them.\n\n\n"
      ]
    },
    {
      "cell_type": "code",
      "execution_count": null,
      "metadata": {
        "collapsed": false
      },
      "outputs": [],
      "source": [
        "stmts['12-31-2018']  # one period"
      ]
    },
    {
      "cell_type": "markdown",
      "metadata": {},
      "source": [
        "Now select multiple periods. Notice how the date format doesn\u2019t matter.\n\n\n"
      ]
    },
    {
      "cell_type": "code",
      "execution_count": null,
      "metadata": {
        "collapsed": false
      },
      "outputs": [],
      "source": [
        "stmts[['12/31/2015', '12-31-2018']]"
      ]
    },
    {
      "cell_type": "markdown",
      "metadata": {},
      "source": [
        "## Statement Math\n\nAll of the math operators are valid on statements. If the operation is\nwith a number, it will apply to each item. If the operation is with\nanother statement, for any overlapping time periods, it will apply the\noperation on the two items, while for non-overlapping time periods it\nwill combine the statements.\n\n### Adjust Units\n\nIt is easy to adjust units by multiplying or dividing the statements.\n\n\n"
      ]
    },
    {
      "cell_type": "code",
      "execution_count": null,
      "metadata": {
        "collapsed": false
      },
      "outputs": [],
      "source": [
        "stmts / 1000000  # in millions"
      ]
    },
    {
      "cell_type": "markdown",
      "metadata": {},
      "source": [
        "### Math with Overlapping Statements\n\nIf the time periods overlap, math will be done with each pair of items.\nThis can be useful for aggregating statements from subsidiaries,\nsegments, etc.:\n\n\n"
      ]
    },
    {
      "cell_type": "code",
      "execution_count": null,
      "metadata": {
        "collapsed": false
      },
      "outputs": [],
      "source": [
        "stmts + stmts"
      ]
    },
    {
      "cell_type": "markdown",
      "metadata": {},
      "source": [
        "### Combine Non-Overlapping Statements\n\nIf the statements have different time periods, adding them will put both\nsets of periods in a single statement.\n\n\n"
      ]
    },
    {
      "cell_type": "code",
      "execution_count": null,
      "metadata": {
        "collapsed": false
      },
      "outputs": [],
      "source": [
        "stmts['12/31/2018'] + stmts['12/31/2014']"
      ]
    },
    {
      "cell_type": "markdown",
      "metadata": {},
      "source": [
        "This can be very useful in the case where you have done a forecast and\nneed to calculate something which requires data from the last historical\nperiod, such as FCF.\n\n\n"
      ]
    },
    {
      "cell_type": "code",
      "execution_count": null,
      "metadata": {
        "collapsed": false
      },
      "outputs": [],
      "source": [
        "stmts.config.update_all(['forecast_config', 'method'], 'trend')\nfcst = stmts.forecast(periods=2)\n(stmts[stmts.dates[-1]] + fcst).fcf.dropna()"
      ]
    }
  ],
  "metadata": {
    "kernelspec": {
      "display_name": "Python 3",
      "language": "python",
      "name": "python3"
    },
    "language_info": {
      "codemirror_mode": {
        "name": "ipython",
        "version": 3
      },
      "file_extension": ".py",
      "mimetype": "text/x-python",
      "name": "python",
      "nbconvert_exporter": "python",
      "pygments_lexer": "ipython3",
      "version": "3.8.16"
    }
  },
  "nbformat": 4,
  "nbformat_minor": 0
}