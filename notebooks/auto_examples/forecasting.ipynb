{
  "cells": [
    {
      "cell_type": "code",
      "execution_count": null,
      "metadata": {
        "collapsed": false
      },
      "outputs": [],
      "source": [
        "%matplotlib inline"
      ]
    },
    {
      "cell_type": "markdown",
      "metadata": {},
      "source": [
        "\n# Forecasting Financial Statements with ``finstmt``\n\n   Note: The plots are not coming through and the formatting of the\n   statements is off in the web view. Download the Jupyter notebook for\n   the full experience.\n\nFirst import the necessary classes and ``pandas``.\n"
      ]
    },
    {
      "cell_type": "code",
      "execution_count": null,
      "metadata": {
        "collapsed": false
      },
      "outputs": [],
      "source": [
        "import os\nos.chdir('..')\nfrom finstmt import FinancialStatements, IncomeStatements, BalanceSheets\nimport pandas as pd"
      ]
    },
    {
      "cell_type": "markdown",
      "metadata": {},
      "source": [
        "## Load Financial Statements\n\n\n"
      ]
    },
    {
      "cell_type": "code",
      "execution_count": null,
      "metadata": {
        "collapsed": false
      },
      "outputs": [],
      "source": [
        "root_folder = os.path.sep.join(['..', 'tests', 'sources', 'stockrow', 'CAT'])\n\ninc_path = os.path.join(root_folder, 'annual_income.csv')\nbs_path = os.path.join(root_folder, 'annual_bs.csv')\n\ninc_df = pd.read_csv(inc_path, index_col=0)\nbs_df = pd.read_csv(bs_path, index_col=0)\n\nbs = BalanceSheets.from_df(bs_df)\ninc = IncomeStatements.from_df(inc_df)\nstmts = FinancialStatements(inc, bs)"
      ]
    },
    {
      "cell_type": "markdown",
      "metadata": {},
      "source": [
        "### View Existing Statements\n\n\n"
      ]
    },
    {
      "cell_type": "code",
      "execution_count": null,
      "metadata": {
        "collapsed": false
      },
      "outputs": [],
      "source": [
        "stmts"
      ]
    },
    {
      "cell_type": "markdown",
      "metadata": {},
      "source": [
        "### Copy the Statements\n\nTo set up for running multiple forecasts off the same data, you can make\na copy of it using ``stmts.copy()``. Then any adjustments to the\nconfiguration will only be in the original object and not the copy.\n\n\n"
      ]
    },
    {
      "cell_type": "code",
      "execution_count": null,
      "metadata": {
        "collapsed": false
      },
      "outputs": [],
      "source": [
        "stmts2 = stmts.copy()"
      ]
    },
    {
      "cell_type": "markdown",
      "metadata": {},
      "source": [
        "## Run a Forecast\n\n\n"
      ]
    },
    {
      "cell_type": "markdown",
      "metadata": {},
      "source": [
        "### Set the Default Method\n\nThis is not a necessary step, but this is the way to change the default\nforecast method. The default is already ``cagr`` and so this doesn\u2019t\nactually have an effect.\n\n\n"
      ]
    },
    {
      "cell_type": "code",
      "execution_count": null,
      "metadata": {
        "collapsed": false
      },
      "outputs": [],
      "source": [
        "stmts.config.update_all(['forecast_config', 'method'], 'cagr')"
      ]
    },
    {
      "cell_type": "markdown",
      "metadata": {},
      "source": [
        "## View the Forecast Assumptions\n\nAll the assumptions going into the forecast are in\n``forecast_assumptions``:\n\n\n"
      ]
    },
    {
      "cell_type": "code",
      "execution_count": null,
      "metadata": {
        "collapsed": false
      },
      "outputs": [],
      "source": [
        "stmts.forecast_assumptions"
      ]
    },
    {
      "cell_type": "markdown",
      "metadata": {},
      "source": [
        "### Run the First Forecast\n\nForecasts are run using ``.forecast()`` and produce\n``ForecastedFinancialStatements``. It is usually good practice to first\nrun a forecast, then view the results, then adjust as needed.\n\n\n"
      ]
    },
    {
      "cell_type": "code",
      "execution_count": null,
      "metadata": {
        "collapsed": false
      },
      "outputs": [],
      "source": [
        "fcst = stmts.forecast()"
      ]
    },
    {
      "cell_type": "markdown",
      "metadata": {},
      "source": [
        "Note: Warnings are raised because CAGR is the default method but it\n   is not suitable for items which begin with 0\n\nNow view the forecast.\n\n\n"
      ]
    },
    {
      "cell_type": "code",
      "execution_count": null,
      "metadata": {
        "collapsed": false
      },
      "outputs": [],
      "source": [
        "fcst"
      ]
    },
    {
      "cell_type": "markdown",
      "metadata": {},
      "source": [
        "And the plot:\n\n\n"
      ]
    },
    {
      "cell_type": "code",
      "execution_count": null,
      "metadata": {
        "collapsed": false
      },
      "outputs": [],
      "source": [
        "fcst.plot()"
      ]
    },
    {
      "cell_type": "markdown",
      "metadata": {},
      "source": [
        "It is also possible to plot a subset. Let\u2019s focus on only a few items\nfor sake of example.\n\n\n"
      ]
    },
    {
      "cell_type": "code",
      "execution_count": null,
      "metadata": {
        "collapsed": false
      },
      "outputs": [],
      "source": [
        "fcst.plot(subset=['revenue', 'cogs', 'cash'])"
      ]
    },
    {
      "cell_type": "markdown",
      "metadata": {},
      "source": [
        "### Change Methods and Re-Run Forecast\n\nAfter viewing the plots, the appropriate methods for forecasting each\nitem should be chosen. Then they can be updated.\n\n\n"
      ]
    },
    {
      "cell_type": "code",
      "execution_count": null,
      "metadata": {
        "collapsed": false
      },
      "outputs": [],
      "source": [
        "stmts.config.update('revenue', ['forecast_config', 'method'], 'trend')\nstmts.config.update('cogs', ['forecast_config', 'method'], 'mean')"
      ]
    },
    {
      "cell_type": "markdown",
      "metadata": {},
      "source": [
        "Now re-run the forecast.\n\n\n"
      ]
    },
    {
      "cell_type": "code",
      "execution_count": null,
      "metadata": {
        "collapsed": false
      },
      "outputs": [],
      "source": [
        "fcst = stmts.forecast()"
      ]
    },
    {
      "cell_type": "markdown",
      "metadata": {},
      "source": [
        "And plot the results:\n\n\n"
      ]
    },
    {
      "cell_type": "code",
      "execution_count": null,
      "metadata": {
        "collapsed": false
      },
      "outputs": [],
      "source": [
        "fcst.plot(subset=['revenue', 'cogs', 'cash'])"
      ]
    },
    {
      "cell_type": "markdown",
      "metadata": {},
      "source": [
        "Now the methods for those forecasts has been updated.\n\n### Adjusting an Existing Forecast\n\nWhile it is possible to use the ``manual`` forecast type and pass in the\ndesired growth rates or levels from the beginning, it is often more\nconvenient to first run the forecast, then simply adjust it. The\n``.to_manual`` method of the forecast was added for this purpose.\n\nEither ``adjustments`` or ``replacements`` can be passed while updating,\nand either the level of the item or the growth in the item can be used\nfor the new manual forecast. For either one, a dictionary where the keys\nare the index of the period and values are the adjustment/replacement or\na list containing all the adjustment/replacements can be used.\n\n\n"
      ]
    },
    {
      "cell_type": "code",
      "execution_count": null,
      "metadata": {
        "collapsed": false
      },
      "outputs": [],
      "source": [
        "fcst.forecasts['cash'].to_manual(adjustments={0: 0.4})  # boost first forecast period cash growth by 40%\nfcst.forecasts['cogs'].to_manual(use_levels=True, replacements=[0.85 for _ in range(5)])  # use 85% of sales for full COGS forecast\nfcst.forecasts['revenue'].to_manual(use_levels=True, replacements={1: 8e10})  # set second forecast period revenue to 80,000,000,000"
      ]
    },
    {
      "cell_type": "markdown",
      "metadata": {},
      "source": [
        "Then just run the forecast again to get everything updated in the\nstatements. Then you can view the plots:\n\n\n"
      ]
    },
    {
      "cell_type": "code",
      "execution_count": null,
      "metadata": {
        "collapsed": false
      },
      "outputs": [],
      "source": [
        "fcst = stmts.forecast()\nfcst.plot(subset=['revenue', 'cogs', 'cash'])"
      ]
    },
    {
      "cell_type": "markdown",
      "metadata": {},
      "source": [
        "## A Second Forecast\n\nSince we earlier did a ``deepcopy`` of the ``stmts`` object, that still\nhas the original forecast assumptions and can be used for a separate\nforecast.\n\n\n"
      ]
    },
    {
      "cell_type": "code",
      "execution_count": null,
      "metadata": {
        "collapsed": false
      },
      "outputs": [],
      "source": [
        "stmts2.forecast_assumptions"
      ]
    }
  ],
  "metadata": {
    "kernelspec": {
      "display_name": "Python 3",
      "language": "python",
      "name": "python3"
    },
    "language_info": {
      "codemirror_mode": {
        "name": "ipython",
        "version": 3
      },
      "file_extension": ".py",
      "mimetype": "text/x-python",
      "name": "python",
      "nbconvert_exporter": "python",
      "pygments_lexer": "ipython3",
      "version": "3.8.16"
    }
  },
  "nbformat": 4,
  "nbformat_minor": 0
}